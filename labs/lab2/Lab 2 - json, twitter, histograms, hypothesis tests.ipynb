{
 "cells": [
  {
   "cell_type": "code",
   "execution_count": 3,
   "metadata": {
    "collapsed": true,
    "scrolled": false
   },
   "outputs": [],
   "source": [
    "import json #library for dealing with json data\n",
    "import numpy as np\n",
    "import matplotlib.pyplot as plt\n",
    "%matplotlib inline"
   ]
  },
  {
   "cell_type": "code",
   "execution_count": 4,
   "metadata": {
    "collapsed": true
   },
   "outputs": [],
   "source": [
    "decoder = json.JSONDecoder()"
   ]
  },
  {
   "cell_type": "markdown",
   "metadata": {},
   "source": [
    "[JSON](https://en.wikipedia.org/wiki/JSON) is a file format for storing attribute-value pairs. Let's start by looking at one line."
   ]
  },
  {
   "cell_type": "code",
   "execution_count": 5,
   "metadata": {},
   "outputs": [
    {
     "name": "stdout",
     "output_type": "stream",
     "text": [
      "{\"created_at\":\"Thu Aug 28 15:34:30 +0000 2014\",\"id\":505015575811457024,\"id_str\":\"505015575811457024\",\"text\":\"Rebola, gatinha http:\\/\\/t.co\\/xMxqJE5o3U\",\"source\":\"\\u003ca href=\\\"http:\\/\\/twitter.com\\/download\\/iphone\\\" rel=\\\"nofollow\\\"\\u003eTwitter for iPhone\\u003c\\/a\\u003e\",\"truncated\":false,\"in_reply_to_status_id\":null,\"in_reply_to_status_id_str\":null,\"in_reply_to_user_id\":null,\"in_reply_to_user_id_str\":null,\"in_reply_to_screen_name\":null,\"user\":{\"id\":360002438,\"id_str\":\"360002438\",\"name\":\"jubas\\u2661\",\"screen_name\":\"luhantella\",\"location\":\"\\u266111.05.14.\\u2661\",\"url\":\"http:\\/\\/ask.fm\\/httpshawol\",\"description\":\"\\u300c2ne1dsoshineexo\\u300d are my drugs. + girl's day vixx bigbang orange caramel got7 suju bestie akmu. \\u2665\\ufe0e2Crazy \\u2661 rua das HunHan \\u00acu\\u00ac\\u2661 For eternity, Elli. \\u2764\\ufe0f Gabi \\u2764\\ufe0f\",\"protected\":false,\"verified\":false,\"followers_count\":802,\"friends_count\":1303,\"listed_count\":2,\"favourites_count\":1492,\"statuses_count\":44745,\"created_at\":\"Mon Aug 22 14:46:00 +0000 2011\",\"utc_offset\":-14400,\"time_zone\":\"Santiago\",\"geo_enabled\":false,\"lang\":\"pt\",\"contributors_enabled\":false,\"is_translator\":false,\"profile_background_color\":\"FFFFFF\",\"profile_background_image_url\":\"http:\\/\\/pbs.twimg.com\\/profile_background_images\\/472048019739648000\\/FuWpbKrv.jpeg\",\"profile_background_image_url_https\":\"https:\\/\\/pbs.twimg.com\\/profile_background_images\\/472048019739648000\\/FuWpbKrv.jpeg\",\"profile_background_tile\":false,\"profile_link_color\":\"6C2F8F\",\"profile_sidebar_border_color\":\"FFFFFF\",\"profile_sidebar_fill_color\":\"E6F6F9\",\"profile_text_color\":\"333333\",\"profile_use_background_image\":true,\"profile_image_url\":\"http:\\/\\/pbs.twimg.com\\/profile_images\\/504468592008896512\\/ycZXacWD_normal.jpeg\",\"profile_image_url_https\":\"https:\\/\\/pbs.twimg.com\\/profile_images\\/504468592008896512\\/ycZXacWD_normal.jpeg\",\"profile_banner_url\":\"https:\\/\\/pbs.twimg.com\\/profile_banners\\/360002438\\/1409109654\",\"default_profile\":false,\"default_profile_image\":false,\"following\":null,\"follow_request_sent\":null,\"notifications\":null},\"geo\":null,\"coordinates\":null,\"place\":null,\"contributors\":null,\"retweet_count\":0,\"favorite_count\":0,\"entities\":{\"hashtags\":[],\"trends\":[],\"urls\":[],\"user_mentions\":[],\"symbols\":[],\"media\":[{\"id\":505005124834447362,\"id_str\":\"505005124834447362\",\"indices\":[16,38],\"media_url\":\"http:\\/\\/pbs.twimg.com\\/media\\/BwIjfEOCUAIuPQn.jpg\",\"media_url_https\":\"https:\\/\\/pbs.twimg.com\\/media\\/BwIjfEOCUAIuPQn.jpg\",\"url\":\"http:\\/\\/t.co\\/xMxqJE5o3U\",\"display_url\":\"pic.twitter.com\\/xMxqJE5o3U\",\"expanded_url\":\"http:\\/\\/twitter.com\\/EXO_FANBASE\\/status\\/505005125119639553\\/photo\\/1\",\"type\":\"photo\",\"sizes\":{\"medium\":{\"w\":600,\"h\":900,\"resize\":\"fit\"},\"small\":{\"w\":340,\"h\":510,\"resize\":\"fit\"},\"thumb\":{\"w\":150,\"h\":150,\"resize\":\"crop\"},\"large\":{\"w\":1000,\"h\":1500,\"resize\":\"fit\"}},\"source_status_id\":505005125119639553,\"source_status_id_str\":\"505005125119639553\"}]},\"extended_entities\":{\"media\":[{\"id\":505005124834447362,\"id_str\":\"505005124834447362\",\"indices\":[16,38],\"media_url\":\"http:\\/\\/pbs.twimg.com\\/media\\/BwIjfEOCUAIuPQn.jpg\",\"media_url_https\":\"https:\\/\\/pbs.twimg.com\\/media\\/BwIjfEOCUAIuPQn.jpg\",\"url\":\"http:\\/\\/t.co\\/xMxqJE5o3U\",\"display_url\":\"pic.twitter.com\\/xMxqJE5o3U\",\"expanded_url\":\"http:\\/\\/twitter.com\\/EXO_FANBASE\\/status\\/505005125119639553\\/photo\\/1\",\"type\":\"photo\",\"sizes\":{\"medium\":{\"w\":600,\"h\":900,\"resize\":\"fit\"},\"small\":{\"w\":340,\"h\":510,\"resize\":\"fit\"},\"thumb\":{\"w\":150,\"h\":150,\"resize\":\"crop\"},\"large\":{\"w\":1000,\"h\":1500,\"resize\":\"fit\"}},\"source_status_id\":505005125119639553,\"source_status_id_str\":\"505005125119639553\"}]},\"favorited\":false,\"retweeted\":false,\"possibly_sensitive\":false,\"filter_level\":\"medium\",\"lang\":\"pt\",\"timestamp_ms\":\"1409240070672\"}\n",
      "\n"
     ]
    }
   ],
   "source": [
    "with open('ebola-tweets-short.json') as fin:\n",
    "    line = fin.readline()\n",
    "    print (line)\n",
    "    tweet = decoder.decode(line)"
   ]
  },
  {
   "cell_type": "markdown",
   "metadata": {},
   "source": [
    "The JSON object itself is a dict of key-value pairs. \n",
    "- Values can themselves be key-value pairs, such as `tweet['user']`\n",
    "- Empty values are written `[]`"
   ]
  },
  {
   "cell_type": "code",
   "execution_count": 6,
   "metadata": {},
   "outputs": [
    {
     "name": "stdout",
     "output_type": "stream",
     "text": [
      "[u'contributors', u'truncated', u'text', u'in_reply_to_status_id', u'id', u'favorite_count', u'source', u'retweeted', u'coordinates', u'timestamp_ms', u'entities', u'in_reply_to_screen_name', u'id_str', u'retweet_count', u'in_reply_to_user_id', u'favorited', u'user', u'geo', u'in_reply_to_user_id_str', u'possibly_sensitive', u'lang', u'created_at', u'filter_level', u'in_reply_to_status_id_str', u'place', u'extended_entities']\n"
     ]
    }
   ],
   "source": [
    "print(tweet.keys())"
   ]
  },
  {
   "cell_type": "markdown",
   "metadata": {},
   "source": [
    "`user` is a nested JSON object, which is itself a list of key-value pairs."
   ]
  },
  {
   "cell_type": "code",
   "execution_count": 7,
   "metadata": {},
   "outputs": [
    {
     "data": {
      "text/plain": [
       "{u'contributors_enabled': False,\n",
       " u'created_at': u'Mon Aug 22 14:46:00 +0000 2011',\n",
       " u'default_profile': False,\n",
       " u'default_profile_image': False,\n",
       " u'description': u\"\\u300c2ne1dsoshineexo\\u300d are my drugs. + girl's day vixx bigbang orange caramel got7 suju bestie akmu. \\u2665\\ufe0e2Crazy \\u2661 rua das HunHan \\xacu\\xac\\u2661 For eternity, Elli. \\u2764\\ufe0f Gabi \\u2764\\ufe0f\",\n",
       " u'favourites_count': 1492,\n",
       " u'follow_request_sent': None,\n",
       " u'followers_count': 802,\n",
       " u'following': None,\n",
       " u'friends_count': 1303,\n",
       " u'geo_enabled': False,\n",
       " u'id': 360002438,\n",
       " u'id_str': u'360002438',\n",
       " u'is_translator': False,\n",
       " u'lang': u'pt',\n",
       " u'listed_count': 2,\n",
       " u'location': u'\\u266111.05.14.\\u2661',\n",
       " u'name': u'jubas\\u2661',\n",
       " u'notifications': None,\n",
       " u'profile_background_color': u'FFFFFF',\n",
       " u'profile_background_image_url': u'http://pbs.twimg.com/profile_background_images/472048019739648000/FuWpbKrv.jpeg',\n",
       " u'profile_background_image_url_https': u'https://pbs.twimg.com/profile_background_images/472048019739648000/FuWpbKrv.jpeg',\n",
       " u'profile_background_tile': False,\n",
       " u'profile_banner_url': u'https://pbs.twimg.com/profile_banners/360002438/1409109654',\n",
       " u'profile_image_url': u'http://pbs.twimg.com/profile_images/504468592008896512/ycZXacWD_normal.jpeg',\n",
       " u'profile_image_url_https': u'https://pbs.twimg.com/profile_images/504468592008896512/ycZXacWD_normal.jpeg',\n",
       " u'profile_link_color': u'6C2F8F',\n",
       " u'profile_sidebar_border_color': u'FFFFFF',\n",
       " u'profile_sidebar_fill_color': u'E6F6F9',\n",
       " u'profile_text_color': u'333333',\n",
       " u'profile_use_background_image': True,\n",
       " u'protected': False,\n",
       " u'screen_name': u'luhantella',\n",
       " u'statuses_count': 44745,\n",
       " u'time_zone': u'Santiago',\n",
       " u'url': u'http://ask.fm/httpshawol',\n",
       " u'utc_offset': -14400,\n",
       " u'verified': False}"
      ]
     },
     "execution_count": 7,
     "metadata": {},
     "output_type": "execute_result"
    }
   ],
   "source": [
    "tweet['user']"
   ]
  },
  {
   "cell_type": "markdown",
   "metadata": {},
   "source": [
    "# Degree distributions\n",
    "\n",
    "Let's collect the degree distribution for `followers_count` and `friends_count` (the number of people that a Twitter user follows)."
   ]
  },
  {
   "cell_type": "code",
   "execution_count": 8,
   "metadata": {
    "collapsed": true
   },
   "outputs": [],
   "source": [
    "filename = 'ebola-tweets-short.json'"
   ]
  },
  {
   "cell_type": "code",
   "execution_count": 17,
   "metadata": {
    "collapsed": true
   },
   "outputs": [],
   "source": [
    "# gather all tweet user variables, using a list comprehension\n",
    "with open(filename) as fin:\n",
    "    tweet_users = [decoder.decode(line)['user'] for line in fin.readlines()]"
   ]
  },
  {
   "cell_type": "markdown",
   "metadata": {},
   "source": [
    "**About list comprehensions** \n",
    "\n",
    "List comprehensions are an idiom inspired by functional programming. \n",
    "They are concise and easy to read, once you get the idea. \n",
    "Here are some readings about list comprehensions:\n",
    "\n",
    "- http://treyhunner.com/2015/12/python-list-comprehensions-now-in-color/\n",
    "- https://docs.python.org/3/howto/functional.html"
   ]
  },
  {
   "cell_type": "markdown",
   "metadata": {},
   "source": [
    "Anyway, let's plot histograms of the number of followers and \"friends\" for each user."
   ]
  },
  {
   "cell_type": "code",
   "execution_count": 10,
   "metadata": {},
   "outputs": [
    {
     "data": {
      "image/png": "[encoded data removed]",
      "text/plain": [
       "<matplotlib.figure.Figure at 0x8f64dd8>"
      ]
     },
     "metadata": {},
     "output_type": "display_data"
    }
   ],
   "source": [
    "# two side-by-side plots\n",
    "fig,ax = plt.subplots(1,2,figsize=[8,2.5],sharey=True)\n",
    "# ax[0] selects the first subplot\n",
    "# here we use another list comprehension to build a list of followers_count for each user\n",
    "ax[0].hist([user['followers_count'] for user in tweet_users]);\n",
    "ax[0].set_xlabel('followers')\n",
    "# ax[1] selects the second subplot. same list comprehension trick.\n",
    "ax[1].hist([user['friends_count'] for user in tweet_users]);\n",
    "ax[1].set_xlabel('friends');"
   ]
  },
  {
   "cell_type": "markdown",
   "metadata": {},
   "source": [
    "These histograms are not helpful! Let's try logs."
   ]
  },
  {
   "cell_type": "code",
   "execution_count": 11,
   "metadata": {},
   "outputs": [
    {
     "name": "stderr",
     "output_type": "stream",
     "text": [
      "C:\\Users\\Abhi\\Anaconda2\\lib\\site-packages\\ipykernel_launcher.py:2: RuntimeWarning: divide by zero encountered in log\n",
      "  \n"
     ]
    },
    {
     "ename": "ValueError",
     "evalue": "range parameter must be finite.",
     "output_type": "error",
     "traceback": [
      "\u001b[1;31m---------------------------------------------------------------------------\u001b[0m",
      "\u001b[1;31mValueError\u001b[0m                                Traceback (most recent call last)",
      "\u001b[1;32m<ipython-input-11-6d6d63cea3c7>\u001b[0m in \u001b[0;36m<module>\u001b[1;34m()\u001b[0m\n\u001b[0;32m      1\u001b[0m \u001b[0mfig\u001b[0m\u001b[1;33m,\u001b[0m\u001b[0max\u001b[0m \u001b[1;33m=\u001b[0m \u001b[0mplt\u001b[0m\u001b[1;33m.\u001b[0m\u001b[0msubplots\u001b[0m\u001b[1;33m(\u001b[0m\u001b[1;36m1\u001b[0m\u001b[1;33m,\u001b[0m\u001b[1;36m2\u001b[0m\u001b[1;33m,\u001b[0m\u001b[0mfigsize\u001b[0m\u001b[1;33m=\u001b[0m\u001b[1;33m[\u001b[0m\u001b[1;36m7\u001b[0m\u001b[1;33m,\u001b[0m\u001b[1;36m2\u001b[0m\u001b[1;33m]\u001b[0m\u001b[1;33m,\u001b[0m\u001b[0msharey\u001b[0m\u001b[1;33m=\u001b[0m\u001b[0mTrue\u001b[0m\u001b[1;33m)\u001b[0m\u001b[1;33m\u001b[0m\u001b[0m\n\u001b[1;32m----> 2\u001b[1;33m \u001b[0max\u001b[0m\u001b[1;33m[\u001b[0m\u001b[1;36m0\u001b[0m\u001b[1;33m]\u001b[0m\u001b[1;33m.\u001b[0m\u001b[0mhist\u001b[0m\u001b[1;33m(\u001b[0m\u001b[0mnp\u001b[0m\u001b[1;33m.\u001b[0m\u001b[0mlog\u001b[0m\u001b[1;33m(\u001b[0m\u001b[1;33m[\u001b[0m\u001b[0muser\u001b[0m\u001b[1;33m[\u001b[0m\u001b[1;34m'followers_count'\u001b[0m\u001b[1;33m]\u001b[0m \u001b[1;32mfor\u001b[0m \u001b[0muser\u001b[0m \u001b[1;32min\u001b[0m \u001b[0mtweet_users\u001b[0m\u001b[1;33m]\u001b[0m\u001b[1;33m)\u001b[0m\u001b[1;33m)\u001b[0m\u001b[1;33m;\u001b[0m\u001b[1;33m\u001b[0m\u001b[0m\n\u001b[0m\u001b[0;32m      3\u001b[0m \u001b[0max\u001b[0m\u001b[1;33m[\u001b[0m\u001b[1;36m0\u001b[0m\u001b[1;33m]\u001b[0m\u001b[1;33m.\u001b[0m\u001b[0mset_xlabel\u001b[0m\u001b[1;33m(\u001b[0m\u001b[1;34m'log followers'\u001b[0m\u001b[1;33m)\u001b[0m\u001b[1;33m\u001b[0m\u001b[0m\n\u001b[0;32m      4\u001b[0m \u001b[0max\u001b[0m\u001b[1;33m[\u001b[0m\u001b[1;36m1\u001b[0m\u001b[1;33m]\u001b[0m\u001b[1;33m.\u001b[0m\u001b[0mhist\u001b[0m\u001b[1;33m(\u001b[0m\u001b[0mnp\u001b[0m\u001b[1;33m.\u001b[0m\u001b[0mlog\u001b[0m\u001b[1;33m(\u001b[0m\u001b[1;33m[\u001b[0m\u001b[0muser\u001b[0m\u001b[1;33m[\u001b[0m\u001b[1;34m'friends_count'\u001b[0m\u001b[1;33m]\u001b[0m \u001b[1;32mfor\u001b[0m \u001b[0muser\u001b[0m \u001b[1;32min\u001b[0m \u001b[0mtweet_users\u001b[0m\u001b[1;33m]\u001b[0m\u001b[1;33m)\u001b[0m\u001b[1;33m)\u001b[0m\u001b[1;33m;\u001b[0m\u001b[1;33m\u001b[0m\u001b[0m\n\u001b[0;32m      5\u001b[0m \u001b[0max\u001b[0m\u001b[1;33m[\u001b[0m\u001b[1;36m1\u001b[0m\u001b[1;33m]\u001b[0m\u001b[1;33m.\u001b[0m\u001b[0mset_xlabel\u001b[0m\u001b[1;33m(\u001b[0m\u001b[1;34m'log friends'\u001b[0m\u001b[1;33m)\u001b[0m\u001b[1;33m;\u001b[0m\u001b[1;33m\u001b[0m\u001b[0m\n",
      "\u001b[1;32mC:\\Users\\Abhi\\Anaconda2\\lib\\site-packages\\matplotlib\\__init__.pyc\u001b[0m in \u001b[0;36minner\u001b[1;34m(ax, *args, **kwargs)\u001b[0m\n\u001b[0;32m   1895\u001b[0m                     warnings.warn(msg % (label_namer, func.__name__),\n\u001b[0;32m   1896\u001b[0m                                   RuntimeWarning, stacklevel=2)\n\u001b[1;32m-> 1897\u001b[1;33m             \u001b[1;32mreturn\u001b[0m \u001b[0mfunc\u001b[0m\u001b[1;33m(\u001b[0m\u001b[0max\u001b[0m\u001b[1;33m,\u001b[0m \u001b[1;33m*\u001b[0m\u001b[0margs\u001b[0m\u001b[1;33m,\u001b[0m \u001b[1;33m**\u001b[0m\u001b[0mkwargs\u001b[0m\u001b[1;33m)\u001b[0m\u001b[1;33m\u001b[0m\u001b[0m\n\u001b[0m\u001b[0;32m   1898\u001b[0m         \u001b[0mpre_doc\u001b[0m \u001b[1;33m=\u001b[0m \u001b[0minner\u001b[0m\u001b[1;33m.\u001b[0m\u001b[0m__doc__\u001b[0m\u001b[1;33m\u001b[0m\u001b[0m\n\u001b[0;32m   1899\u001b[0m         \u001b[1;32mif\u001b[0m \u001b[0mpre_doc\u001b[0m \u001b[1;32mis\u001b[0m \u001b[0mNone\u001b[0m\u001b[1;33m:\u001b[0m\u001b[1;33m\u001b[0m\u001b[0m\n",
      "\u001b[1;32mC:\\Users\\Abhi\\Anaconda2\\lib\\site-packages\\matplotlib\\axes\\_axes.pyc\u001b[0m in \u001b[0;36mhist\u001b[1;34m(***failed resolving arguments***)\u001b[0m\n\u001b[0;32m   6193\u001b[0m             \u001b[1;31m# this will automatically overwrite bins,\u001b[0m\u001b[1;33m\u001b[0m\u001b[1;33m\u001b[0m\u001b[0m\n\u001b[0;32m   6194\u001b[0m             \u001b[1;31m# so that each histogram uses the same bins\u001b[0m\u001b[1;33m\u001b[0m\u001b[1;33m\u001b[0m\u001b[0m\n\u001b[1;32m-> 6195\u001b[1;33m             \u001b[0mm\u001b[0m\u001b[1;33m,\u001b[0m \u001b[0mbins\u001b[0m \u001b[1;33m=\u001b[0m \u001b[0mnp\u001b[0m\u001b[1;33m.\u001b[0m\u001b[0mhistogram\u001b[0m\u001b[1;33m(\u001b[0m\u001b[0mx\u001b[0m\u001b[1;33m[\u001b[0m\u001b[0mi\u001b[0m\u001b[1;33m]\u001b[0m\u001b[1;33m,\u001b[0m \u001b[0mbins\u001b[0m\u001b[1;33m,\u001b[0m \u001b[0mweights\u001b[0m\u001b[1;33m=\u001b[0m\u001b[0mw\u001b[0m\u001b[1;33m[\u001b[0m\u001b[0mi\u001b[0m\u001b[1;33m]\u001b[0m\u001b[1;33m,\u001b[0m \u001b[1;33m**\u001b[0m\u001b[0mhist_kwargs\u001b[0m\u001b[1;33m)\u001b[0m\u001b[1;33m\u001b[0m\u001b[0m\n\u001b[0m\u001b[0;32m   6196\u001b[0m             \u001b[0mm\u001b[0m \u001b[1;33m=\u001b[0m \u001b[0mm\u001b[0m\u001b[1;33m.\u001b[0m\u001b[0mastype\u001b[0m\u001b[1;33m(\u001b[0m\u001b[0mfloat\u001b[0m\u001b[1;33m)\u001b[0m  \u001b[1;31m# causes problems later if it's an int\u001b[0m\u001b[1;33m\u001b[0m\u001b[0m\n\u001b[0;32m   6197\u001b[0m             \u001b[1;32mif\u001b[0m \u001b[0mmlast\u001b[0m \u001b[1;32mis\u001b[0m \u001b[0mNone\u001b[0m\u001b[1;33m:\u001b[0m\u001b[1;33m\u001b[0m\u001b[0m\n",
      "\u001b[1;32mC:\\Users\\Abhi\\Anaconda2\\lib\\site-packages\\numpy\\lib\\function_base.pyc\u001b[0m in \u001b[0;36mhistogram\u001b[1;34m(a, bins, range, normed, weights, density)\u001b[0m\n\u001b[0;32m    667\u001b[0m     \u001b[1;32mif\u001b[0m \u001b[1;32mnot\u001b[0m \u001b[0mnp\u001b[0m\u001b[1;33m.\u001b[0m\u001b[0mall\u001b[0m\u001b[1;33m(\u001b[0m\u001b[0mnp\u001b[0m\u001b[1;33m.\u001b[0m\u001b[0misfinite\u001b[0m\u001b[1;33m(\u001b[0m\u001b[1;33m[\u001b[0m\u001b[0mmn\u001b[0m\u001b[1;33m,\u001b[0m \u001b[0mmx\u001b[0m\u001b[1;33m]\u001b[0m\u001b[1;33m)\u001b[0m\u001b[1;33m)\u001b[0m\u001b[1;33m:\u001b[0m\u001b[1;33m\u001b[0m\u001b[0m\n\u001b[0;32m    668\u001b[0m         raise ValueError(\n\u001b[1;32m--> 669\u001b[1;33m             'range parameter must be finite.')\n\u001b[0m\u001b[0;32m    670\u001b[0m     \u001b[1;32mif\u001b[0m \u001b[0mmn\u001b[0m \u001b[1;33m==\u001b[0m \u001b[0mmx\u001b[0m\u001b[1;33m:\u001b[0m\u001b[1;33m\u001b[0m\u001b[0m\n\u001b[0;32m    671\u001b[0m         \u001b[0mmn\u001b[0m \u001b[1;33m-=\u001b[0m \u001b[1;36m0.5\u001b[0m\u001b[1;33m\u001b[0m\u001b[0m\n",
      "\u001b[1;31mValueError\u001b[0m: range parameter must be finite."
     ]
    },
    {
     "data": {
      "image/png": "[encoded data removed]",
      "text/plain": [
       "<matplotlib.figure.Figure at 0x8f645f8>"
      ]
     },
     "metadata": {},
     "output_type": "display_data"
    }
   ],
   "source": [
    "fig,ax = plt.subplots(1,2,figsize=[7,2],sharey=True)\n",
    "ax[0].hist(np.log([user['followers_count'] for user in tweet_users]));\n",
    "ax[0].set_xlabel('log followers')\n",
    "ax[1].hist(np.log([user['friends_count'] for user in tweet_users]));\n",
    "ax[1].set_xlabel('log friends');"
   ]
  },
  {
   "cell_type": "markdown",
   "metadata": {},
   "source": [
    "Not a great error message! The issue is that some of these counts are zero, so we can't take a log. \n",
    "\n",
    "We'll just do a hacky solution: $\\log(n + 1)$"
   ]
  },
  {
   "cell_type": "code",
   "execution_count": 12,
   "metadata": {},
   "outputs": [
    {
     "data": {
      "text/plain": [
       "<matplotlib.text.Text at 0x93f5400>"
      ]
     },
     "execution_count": 12,
     "metadata": {},
     "output_type": "execute_result"
    },
    {
     "data": {
      "image/png": "[encoded data removed]",
      "text/plain": [
       "<matplotlib.figure.Figure at 0x93251d0>"
      ]
     },
     "metadata": {},
     "output_type": "display_data"
    }
   ],
   "source": [
    "fig,ax = plt.subplots(1,3,figsize=[8,2.5],sharey=True)\n",
    "ax[0].hist(np.log(1.+np.array([user['followers_count'] for user in tweet_users])));\n",
    "ax[0].set_xlabel('log followers')\n",
    "ax[1].hist(np.log(1.+np.array([user['friends_count'] for user in tweet_users])));\n",
    "ax[1].set_xlabel('log friends');\n",
    "ax[2].hist(np.log(1.+np.array([user['statuses_count'] for user in tweet_users])));\n",
    "ax[2].set_xlabel('log tweets')"
   ]
  },
  {
   "cell_type": "code",
   "execution_count": 19,
   "metadata": {
    "collapsed": true
   },
   "outputs": [],
   "source": [
    "foll_arr = np.array([user['followers_count'] for user in tweet_users])\n",
    "friend_arr = np.array([user['friends_count'] for user in tweet_users])\n",
    "tweet_arr = np.array([user['statuses_count'] for user in tweet_users])"
   ]
  },
  {
   "cell_type": "markdown",
   "metadata": {},
   "source": [
    "A log-log plot can also be useful for understanding this kind of data."
   ]
  },
  {
   "cell_type": "code",
   "execution_count": 21,
   "metadata": {},
   "outputs": [
    {
     "data": {
      "image/png": "[encoded data removed]",
      "text/plain": [
       "<matplotlib.figure.Figure at 0x8f41748>"
      ]
     },
     "metadata": {},
     "output_type": "display_data"
    }
   ],
   "source": [
    "plt.loglog(sorted(foll_arr)[::-1]);\n",
    "plt.loglog(sorted(friend_arr)[::-1],linestyle='--');\n",
    "plt.loglog(sorted(tweet_arr)[::-1],linestyle=':')\n",
    "plt.legend(['followers','friends', 'tweets'])\n",
    "plt.xlabel('rank')\n",
    "plt.ylabel('count');"
   ]
  },
  {
   "cell_type": "markdown",
   "metadata": {},
   "source": [
    "## Your turn\n",
    "\n",
    "The `user.statuses_count` variable is the total number of tweets. Plot the histogram of the log of this variable, and add the variable to the figure above.\n",
    "\n",
    "Based on your analysis, make a qualitative statement about the difference between the distribution over `statuses_count` and the other two variables."
   ]
  },
  {
   "cell_type": "code",
   "execution_count": null,
   "metadata": {},
   "outputs": [],
   "source": [
    "# your code here\n",
    "ax[0].hist(np.log(1.+np.array([user['statuses_count'] for user in tweet_users])));\n",
    "ax[0].set_xlabel('log tweets')"
   ]
  },
  {
   "cell_type": "markdown",
   "metadata": {},
   "source": [
    "## Your turn (again)\n",
    "\n",
    "The field `lang` is the language associated with the user account.\n",
    "\n",
    "- What fraction of tweets are by users for whom the language is English? (the value will be `en`)\n",
    "- What is the second-most popular language?"
   ]
  },
  {
   "cell_type": "code",
   "execution_count": 13,
   "metadata": {},
   "outputs": [
    {
     "name": "stdout",
     "output_type": "stream",
     "text": [
      "[('a', 3), ('b', 2)]\n"
     ]
    }
   ],
   "source": [
    "# hint!\n",
    "from collections import Counter\n",
    "print(Counter(['a','a','a','b','b','c','d']).most_common(2))"
   ]
  },
  {
   "cell_type": "code",
   "execution_count": 41,
   "metadata": {},
   "outputs": [
    {
     "name": "stdout",
     "output_type": "stream",
     "text": [
      "0.429\n",
      "[(u'en', 429), (u'pt', 241)]\n"
     ]
    }
   ],
   "source": [
    "# your code here\n",
    "lang_arr = np.array([user['lang'] for user in tweet_users])\n",
    "x = float( len(lang_arr))\n",
    "print np.count_nonzero(lang_arr=='en')/x\n",
    "print Counter(lang_arr).most_common(2)"
   ]
  },
  {
   "cell_type": "markdown",
   "metadata": {
    "collapsed": true
   },
   "source": [
    "# Putting it in a dataframe"
   ]
  },
  {
   "cell_type": "code",
   "execution_count": 74,
   "metadata": {
    "collapsed": true
   },
   "outputs": [],
   "source": [
    "import pandas as pd"
   ]
  },
  {
   "cell_type": "code",
   "execution_count": 76,
   "metadata": {
    "collapsed": true
   },
   "outputs": [],
   "source": [
    "df = pd.DataFrame({\n",
    "        # this is a unique id per user\n",
    "        'id':np.array([user['id'] for user in tweet_users]),\n",
    "        'followers':np.array([user['followers_count'] for user in tweet_users]),\n",
    "        'friends':np.array([user['friends_count'] for user in tweet_users]),\n",
    "        'tweets':np.array([user['statuses_count'] for user in tweet_users])})"
   ]
  },
  {
   "cell_type": "code",
   "execution_count": 77,
   "metadata": {},
   "outputs": [
    {
     "data": {
      "text/html": [
       "<div>\n",
       "<style>\n",
       "    .dataframe thead tr:only-child th {\n",
       "        text-align: right;\n",
       "    }\n",
       "\n",
       "    .dataframe thead th {\n",
       "        text-align: left;\n",
       "    }\n",
       "\n",
       "    .dataframe tbody tr th {\n",
       "        vertical-align: top;\n",
       "    }\n",
       "</style>\n",
       "<table border=\"1\" class=\"dataframe\">\n",
       "  <thead>\n",
       "    <tr style=\"text-align: right;\">\n",
       "      <th></th>\n",
       "      <th>followers</th>\n",
       "      <th>friends</th>\n",
       "      <th>id</th>\n",
       "      <th>tweets</th>\n",
       "    </tr>\n",
       "  </thead>\n",
       "  <tbody>\n",
       "    <tr>\n",
       "      <th>0</th>\n",
       "      <td>802</td>\n",
       "      <td>1303</td>\n",
       "      <td>360002438</td>\n",
       "      <td>44745</td>\n",
       "    </tr>\n",
       "    <tr>\n",
       "      <th>1</th>\n",
       "      <td>587</td>\n",
       "      <td>953</td>\n",
       "      <td>57416517</td>\n",
       "      <td>44148</td>\n",
       "    </tr>\n",
       "    <tr>\n",
       "      <th>2</th>\n",
       "      <td>251</td>\n",
       "      <td>244</td>\n",
       "      <td>1373051762</td>\n",
       "      <td>8420</td>\n",
       "    </tr>\n",
       "  </tbody>\n",
       "</table>\n",
       "</div>"
      ],
      "text/plain": [
       "   followers  friends          id  tweets\n",
       "0        802     1303   360002438   44745\n",
       "1        587      953    57416517   44148\n",
       "2        251      244  1373051762    8420"
      ]
     },
     "execution_count": 77,
     "metadata": {},
     "output_type": "execute_result"
    }
   ],
   "source": [
    "df.head(3)"
   ]
  },
  {
   "cell_type": "markdown",
   "metadata": {},
   "source": [
    "Are there any duplicate users in this list? \n",
    "\n",
    "We can tell by looking at the id."
   ]
  },
  {
   "cell_type": "code",
   "execution_count": 78,
   "metadata": {},
   "outputs": [
    {
     "name": "stdout",
     "output_type": "stream",
     "text": [
      "(861, 1000)\n"
     ]
    }
   ],
   "source": [
    "print(len(df['id'].unique()),len(df))"
   ]
  },
  {
   "cell_type": "markdown",
   "metadata": {},
   "source": [
    "There are only 861 unique user IDs among these 1000 tweets. \n",
    "\n",
    "Let's aggregate by taking the max number of followers and friends for each ID"
   ]
  },
  {
   "cell_type": "code",
   "execution_count": 79,
   "metadata": {
    "collapsed": true
   },
   "outputs": [],
   "source": [
    "df_agg = df.groupby('id').aggregate('max')"
   ]
  },
  {
   "cell_type": "code",
   "execution_count": 80,
   "metadata": {},
   "outputs": [
    {
     "data": {
      "text/html": [
       "<div>\n",
       "<style>\n",
       "    .dataframe thead tr:only-child th {\n",
       "        text-align: right;\n",
       "    }\n",
       "\n",
       "    .dataframe thead th {\n",
       "        text-align: left;\n",
       "    }\n",
       "\n",
       "    .dataframe tbody tr th {\n",
       "        vertical-align: top;\n",
       "    }\n",
       "</style>\n",
       "<table border=\"1\" class=\"dataframe\">\n",
       "  <thead>\n",
       "    <tr style=\"text-align: right;\">\n",
       "      <th></th>\n",
       "      <th>followers</th>\n",
       "      <th>friends</th>\n",
       "      <th>tweets</th>\n",
       "    </tr>\n",
       "    <tr>\n",
       "      <th>id</th>\n",
       "      <th></th>\n",
       "      <th></th>\n",
       "      <th></th>\n",
       "    </tr>\n",
       "  </thead>\n",
       "  <tbody>\n",
       "    <tr>\n",
       "      <th>3078921</th>\n",
       "      <td>328</td>\n",
       "      <td>0</td>\n",
       "      <td>40077</td>\n",
       "    </tr>\n",
       "    <tr>\n",
       "      <th>5678532</th>\n",
       "      <td>723</td>\n",
       "      <td>696</td>\n",
       "      <td>82090</td>\n",
       "    </tr>\n",
       "    <tr>\n",
       "      <th>8706922</th>\n",
       "      <td>6166</td>\n",
       "      <td>323</td>\n",
       "      <td>40397</td>\n",
       "    </tr>\n",
       "    <tr>\n",
       "      <th>8886812</th>\n",
       "      <td>13117</td>\n",
       "      <td>980</td>\n",
       "      <td>6172</td>\n",
       "    </tr>\n",
       "    <tr>\n",
       "      <th>12003092</th>\n",
       "      <td>3979</td>\n",
       "      <td>1036</td>\n",
       "      <td>110084</td>\n",
       "    </tr>\n",
       "  </tbody>\n",
       "</table>\n",
       "</div>"
      ],
      "text/plain": [
       "          followers  friends  tweets\n",
       "id                                  \n",
       "3078921         328        0   40077\n",
       "5678532         723      696   82090\n",
       "8706922        6166      323   40397\n",
       "8886812       13117      980    6172\n",
       "12003092       3979     1036  110084"
      ]
     },
     "execution_count": 80,
     "metadata": {},
     "output_type": "execute_result"
    }
   ],
   "source": [
    "df_agg.head()"
   ]
  },
  {
   "cell_type": "markdown",
   "metadata": {},
   "source": [
    "The `id` has been made the index of this aggregated dataframe."
   ]
  },
  {
   "cell_type": "code",
   "execution_count": 81,
   "metadata": {},
   "outputs": [
    {
     "name": "stdout",
     "output_type": "stream",
     "text": [
      "861\n"
     ]
    }
   ],
   "source": [
    "print(len(df_agg))"
   ]
  },
  {
   "cell_type": "markdown",
   "metadata": {},
   "source": [
    "Any relationship between number of friends and followers?"
   ]
  },
  {
   "cell_type": "code",
   "execution_count": 83,
   "metadata": {},
   "outputs": [
    {
     "data": {
      "image/png": "[encoded data removed]",
      "text/plain": [
       "<matplotlib.figure.Figure at 0xab49198>"
      ]
     },
     "metadata": {},
     "output_type": "display_data"
    }
   ],
   "source": [
    "plt.scatter(df_agg['followers'],df_agg['friends'],);\n",
    "plt.xlabel('followers')\n",
    "plt.ylabel('friends');"
   ]
  },
  {
   "cell_type": "markdown",
   "metadata": {},
   "source": [
    "Hard to tell. Let's try logs again."
   ]
  },
  {
   "cell_type": "code",
   "execution_count": 50,
   "metadata": {},
   "outputs": [
    {
     "data": {
      "image/png": "[encoded data removed]",
      "text/plain": [
       "<matplotlib.figure.Figure at 0xa5b6fd0>"
      ]
     },
     "metadata": {},
     "output_type": "display_data"
    }
   ],
   "source": [
    "plt.scatter(np.log(1.+df_agg['followers']),\n",
    "            np.log(1.+df_agg['friends']))\n",
    "plt.xlabel('log followers')\n",
    "plt.ylabel('log friends');"
   ]
  },
  {
   "cell_type": "markdown",
   "metadata": {},
   "source": [
    "Looks like there is some kind of relationship. Let's get a correlation."
   ]
  },
  {
   "cell_type": "code",
   "execution_count": 51,
   "metadata": {
    "collapsed": true
   },
   "outputs": [],
   "source": [
    "import scipy as sp\n",
    "import scipy.stats as stats"
   ]
  },
  {
   "cell_type": "code",
   "execution_count": 52,
   "metadata": {},
   "outputs": [
    {
     "data": {
      "text/plain": [
       "(0.65466624108458016, 1.6901011201515013e-106)"
      ]
     },
     "execution_count": 52,
     "metadata": {},
     "output_type": "execute_result"
    }
   ],
   "source": [
    "stats.pearsonr(np.log(1.+df_agg['followers']),np.log(1.+df_agg['friends']))"
   ]
  },
  {
   "cell_type": "markdown",
   "metadata": {},
   "source": [
    "The second number is the $p$-value, which is very small.\n",
    "\n",
    "Let's confirm that the correlation is equal to $\\frac{\\text{cov}(x,y)}{\\text{std}(x)\\times \\text{std}(y)}$, as discussed in class."
   ]
  },
  {
   "cell_type": "code",
   "execution_count": 53,
   "metadata": {
    "collapsed": true
   },
   "outputs": [],
   "source": [
    "x = np.log(1. + df_agg['followers'])\n",
    "y = np.log(1. + df_agg['friends'])"
   ]
  },
  {
   "cell_type": "code",
   "execution_count": 54,
   "metadata": {
    "collapsed": true
   },
   "outputs": [],
   "source": [
    "cov_xy = sum((x - x.mean()) * (y - y.mean())) / (len(x)-1)"
   ]
  },
  {
   "cell_type": "code",
   "execution_count": 55,
   "metadata": {},
   "outputs": [
    {
     "name": "stdout",
     "output_type": "stream",
     "text": [
      "(1.8693869484002947, 1.8317583182806836, 1.558874264795695)\n"
     ]
    }
   ],
   "source": [
    "print(cov_xy,x.std(),y.std())"
   ]
  },
  {
   "cell_type": "code",
   "execution_count": 56,
   "metadata": {
    "collapsed": true
   },
   "outputs": [],
   "source": [
    "r_manual = cov_xy / (x.std() * y.std())"
   ]
  },
  {
   "cell_type": "code",
   "execution_count": 57,
   "metadata": {},
   "outputs": [
    {
     "name": "stdout",
     "output_type": "stream",
     "text": [
      "0.654666241085\n"
     ]
    }
   ],
   "source": [
    "print(r_manual)"
   ]
  },
  {
   "cell_type": "markdown",
   "metadata": {},
   "source": [
    "Same!\n",
    "\n",
    "For reference, here's the Spearman rank correlation"
   ]
  },
  {
   "cell_type": "code",
   "execution_count": 58,
   "metadata": {},
   "outputs": [
    {
     "data": {
      "text/plain": [
       "SpearmanrResult(correlation=0.67183664842944169, pvalue=4.2597680950819419e-114)"
      ]
     },
     "execution_count": 58,
     "metadata": {},
     "output_type": "execute_result"
    }
   ],
   "source": [
    "stats.spearmanr(np.log(1.+df_agg['followers']),np.log(1.+df_agg['friends']))"
   ]
  },
  {
   "cell_type": "markdown",
   "metadata": {},
   "source": [
    "## Your turn\n",
    "\n",
    "What is the Pearson correlation between the (log) number of `friends` and the (log) `statuses_count`? \n",
    "\n",
    "To answer this, add `statuses_count` to the dataframe. You'll need to start over with `df`, and then aggregate again by `id`."
   ]
  },
  {
   "cell_type": "code",
   "execution_count": 86,
   "metadata": {},
   "outputs": [
    {
     "data": {
      "text/plain": [
       "(0.41972715622336609, 4.5874597826506004e-38)"
      ]
     },
     "execution_count": 86,
     "metadata": {},
     "output_type": "execute_result"
    }
   ],
   "source": [
    "# your code here\n",
    "stats.pearsonr(np.log(1.+df_agg['friends']),np.log(1.+df_agg['tweets']))"
   ]
  },
  {
   "cell_type": "markdown",
   "metadata": {},
   "source": [
    "# Hypothesis test: English --> more followers\n",
    "\n",
    "English is the most popular language on Twitter, so perhaps it offers more followers.\n",
    "\n",
    "Let's do a hypothesis test comparing the number of followers for English-speaking accounts to the number of followers for all other accounts. Specifically, we'll test the hypothesis:\n",
    "\n",
    "    - H1: The median English-speaking twitter user has more followers than the median non-English-speaking twitter user"
   ]
  },
  {
   "cell_type": "code",
   "execution_count": 89,
   "metadata": {
    "collapsed": true
   },
   "outputs": [],
   "source": [
    "# here's a dataframe that includes whether the user's language is English\n",
    "df = pd.DataFrame({'id':np.array([user['id'] for user in tweet_users]),\n",
    "                   'followers':np.array([user['followers_count'] for user in tweet_users]),\n",
    "                   'friends':np.array([user['friends_count'] for user in tweet_users]),\n",
    "                   'statuses':np.array([user['statuses_count'] for user in tweet_users]),\n",
    "                   'lang_en':[user['lang']=='en' for user in tweet_users]})"
   ]
  },
  {
   "cell_type": "code",
   "execution_count": 90,
   "metadata": {},
   "outputs": [
    {
     "data": {
      "text/html": [
       "<div>\n",
       "<style>\n",
       "    .dataframe thead tr:only-child th {\n",
       "        text-align: right;\n",
       "    }\n",
       "\n",
       "    .dataframe thead th {\n",
       "        text-align: left;\n",
       "    }\n",
       "\n",
       "    .dataframe tbody tr th {\n",
       "        vertical-align: top;\n",
       "    }\n",
       "</style>\n",
       "<table border=\"1\" class=\"dataframe\">\n",
       "  <thead>\n",
       "    <tr style=\"text-align: right;\">\n",
       "      <th></th>\n",
       "      <th>followers</th>\n",
       "      <th>friends</th>\n",
       "      <th>id</th>\n",
       "      <th>lang_en</th>\n",
       "      <th>statuses</th>\n",
       "    </tr>\n",
       "  </thead>\n",
       "  <tbody>\n",
       "    <tr>\n",
       "      <th>0</th>\n",
       "      <td>802</td>\n",
       "      <td>1303</td>\n",
       "      <td>360002438</td>\n",
       "      <td>False</td>\n",
       "      <td>44745</td>\n",
       "    </tr>\n",
       "    <tr>\n",
       "      <th>1</th>\n",
       "      <td>587</td>\n",
       "      <td>953</td>\n",
       "      <td>57416517</td>\n",
       "      <td>True</td>\n",
       "      <td>44148</td>\n",
       "    </tr>\n",
       "    <tr>\n",
       "      <th>2</th>\n",
       "      <td>251</td>\n",
       "      <td>244</td>\n",
       "      <td>1373051762</td>\n",
       "      <td>True</td>\n",
       "      <td>8420</td>\n",
       "    </tr>\n",
       "  </tbody>\n",
       "</table>\n",
       "</div>"
      ],
      "text/plain": [
       "   followers  friends          id  lang_en  statuses\n",
       "0        802     1303   360002438    False     44745\n",
       "1        587      953    57416517     True     44148\n",
       "2        251      244  1373051762     True      8420"
      ]
     },
     "execution_count": 90,
     "metadata": {},
     "output_type": "execute_result"
    }
   ],
   "source": [
    "df.head(3)"
   ]
  },
  {
   "cell_type": "code",
   "execution_count": 91,
   "metadata": {
    "collapsed": true
   },
   "outputs": [],
   "source": [
    "# again, aggregate by id to avoid repetition\n",
    "df_agg = df.groupby('id').aggregate('max')"
   ]
  },
  {
   "cell_type": "code",
   "execution_count": 92,
   "metadata": {},
   "outputs": [
    {
     "data": {
      "text/html": [
       "<div>\n",
       "<style>\n",
       "    .dataframe thead tr:only-child th {\n",
       "        text-align: right;\n",
       "    }\n",
       "\n",
       "    .dataframe thead th {\n",
       "        text-align: left;\n",
       "    }\n",
       "\n",
       "    .dataframe tbody tr th {\n",
       "        vertical-align: top;\n",
       "    }\n",
       "</style>\n",
       "<table border=\"1\" class=\"dataframe\">\n",
       "  <thead>\n",
       "    <tr style=\"text-align: right;\">\n",
       "      <th></th>\n",
       "      <th>followers</th>\n",
       "      <th>friends</th>\n",
       "      <th>lang_en</th>\n",
       "      <th>statuses</th>\n",
       "    </tr>\n",
       "    <tr>\n",
       "      <th>id</th>\n",
       "      <th></th>\n",
       "      <th></th>\n",
       "      <th></th>\n",
       "      <th></th>\n",
       "    </tr>\n",
       "  </thead>\n",
       "  <tbody>\n",
       "    <tr>\n",
       "      <th>3078921</th>\n",
       "      <td>328</td>\n",
       "      <td>0</td>\n",
       "      <td>True</td>\n",
       "      <td>40077</td>\n",
       "    </tr>\n",
       "    <tr>\n",
       "      <th>5678532</th>\n",
       "      <td>723</td>\n",
       "      <td>696</td>\n",
       "      <td>False</td>\n",
       "      <td>82090</td>\n",
       "    </tr>\n",
       "    <tr>\n",
       "      <th>8706922</th>\n",
       "      <td>6166</td>\n",
       "      <td>323</td>\n",
       "      <td>True</td>\n",
       "      <td>40397</td>\n",
       "    </tr>\n",
       "  </tbody>\n",
       "</table>\n",
       "</div>"
      ],
      "text/plain": [
       "         followers  friends  lang_en  statuses\n",
       "id                                            \n",
       "3078921        328        0     True     40077\n",
       "5678532        723      696    False     82090\n",
       "8706922       6166      323     True     40397"
      ]
     },
     "execution_count": 92,
     "metadata": {},
     "output_type": "execute_result"
    }
   ],
   "source": [
    "df_agg.head(3)"
   ]
  },
  {
   "cell_type": "code",
   "execution_count": 93,
   "metadata": {},
   "outputs": [
    {
     "name": "stdout",
     "output_type": "stream",
     "text": [
      "followers     417.0\n",
      "friends       344.0\n",
      "lang_en         1.0\n",
      "statuses     8420.0\n",
      "dtype: float64\n",
      "followers     399.0\n",
      "friends       380.0\n",
      "lang_en         0.0\n",
      "statuses     9931.5\n",
      "dtype: float64\n"
     ]
    }
   ],
   "source": [
    "# print the medians\n",
    "# as in lab 1, we use `loc` to select a subset of the dataframe\n",
    "print(df_agg.loc[df_agg['lang_en']].median())\n",
    "print(df_agg.loc[~df_agg['lang_en']].median())"
   ]
  },
  {
   "cell_type": "markdown",
   "metadata": {},
   "source": [
    "The medians are very close, but the English speakers do have a higher median number of followers:"
   ]
  },
  {
   "cell_type": "code",
   "execution_count": 94,
   "metadata": {},
   "outputs": [
    {
     "name": "stdout",
     "output_type": "stream",
     "text": [
      "18.0\n"
     ]
    }
   ],
   "source": [
    "follow_series = df_agg['followers'] # for convenience\n",
    "h1_val = follow_series[df_agg['lang_en'].values].median() - follow_series[~df_agg['lang_en'].values].median()\n",
    "print(h1_val)"
   ]
  },
  {
   "cell_type": "markdown",
   "metadata": {},
   "source": [
    "Let's do the hypothesis test by randomization. Here's a command to shuffle the series. Execute the cell multiple times to see what happens."
   ]
  },
  {
   "cell_type": "code",
   "execution_count": 125,
   "metadata": {},
   "outputs": [
    {
     "data": {
      "text/plain": [
       "0     876\n",
       "1    2000\n",
       "2    1121\n",
       "3     766\n",
       "4    1534\n",
       "Name: followers, dtype: int32"
      ]
     },
     "execution_count": 125,
     "metadata": {},
     "output_type": "execute_result"
    }
   ],
   "source": [
    "follow_series.sample(frac=1,replace=False).reset_index(drop=True).head()"
   ]
  },
  {
   "cell_type": "markdown",
   "metadata": {},
   "source": [
    "Now let's compute the difference in medians for a shuffled sample."
   ]
  },
  {
   "cell_type": "code",
   "execution_count": 96,
   "metadata": {},
   "outputs": [
    {
     "name": "stdout",
     "output_type": "stream",
     "text": [
      "38.0\n"
     ]
    }
   ],
   "source": [
    "samp = follow_series.sample(frac=1,replace=False).reset_index(drop=True)\n",
    "h0_val = samp[df_agg['lang_en'].values].median() - samp[~df_agg['lang_en'].values].median()\n",
    "print(h0_val)"
   ]
  },
  {
   "cell_type": "markdown",
   "metadata": {},
   "source": [
    "To get a $p$-value, let's draw 1000 samples like this, and see how many exceed the h1_val"
   ]
  },
  {
   "cell_type": "code",
   "execution_count": 119,
   "metadata": {
    "collapsed": true
   },
   "outputs": [],
   "source": [
    "S = 1000"
   ]
  },
  {
   "cell_type": "code",
   "execution_count": 106,
   "metadata": {},
   "outputs": [
    {
     "name": "stdout",
     "output_type": "stream",
     "text": [
      "379.0\n",
      "p = 0.379000\n"
     ]
    }
   ],
   "source": [
    "# boring for-loop way\n",
    "p_count = 0.0\n",
    "for _ in range(S):\n",
    "    samp = follow_series.sample(frac=1,replace=False).reset_index(drop=True)\n",
    "    h0_val = samp[df_agg['lang_en'].values].median() - samp[~df_agg['lang_en'].values].median()\n",
    "    p_count += (h0_val > h1_val)\n",
    "print p_count\n",
    "print('p = %f'%(p_count / S))"
   ]
  },
  {
   "cell_type": "code",
   "execution_count": 120,
   "metadata": {},
   "outputs": [
    {
     "name": "stdout",
     "output_type": "stream",
     "text": [
      "p = 0.400000\n"
     ]
    }
   ],
   "source": [
    "# awesome functional programming way\n",
    "median_diff = lambda samp : samp[df_agg['lang_en'].values].median() - samp[~df_agg['lang_en'].values].median()\n",
    "get_samp = lambda : follow_series.sample(frac=1,replace=False).reset_index(drop=True)\n",
    "h0_vals = [median_diff(get_samp()) for _ in range(S)]\n",
    "p_count = sum([h0_val > h1_val for h0_val in h0_vals])\n",
    "print('p = %f'%(float(p_count) / S))"
   ]
  },
  {
   "cell_type": "markdown",
   "metadata": {},
   "source": [
    "Here's a figure that makes the point that the result is not statistically significant."
   ]
  },
  {
   "cell_type": "code",
   "execution_count": 109,
   "metadata": {},
   "outputs": [
    {
     "data": {
      "image/png": "[encoded data removed]",
      "text/plain": [
       "<matplotlib.figure.Figure at 0xba6ce48>"
      ]
     },
     "metadata": {},
     "output_type": "display_data"
    }
   ],
   "source": [
    "plt.hist(h0_vals,color='gray');\n",
    "plt.plot([h1_val,h1_val],[0,200],linestyle='--',color='red',linewidth=3)\n",
    "plt.xlabel('difference in medians');\n",
    "plt.legend(['observed value','null distribution']);"
   ]
  },
  {
   "cell_type": "markdown",
   "metadata": {},
   "source": [
    "## You try\n",
    "\n",
    "Try running the $p$-value function a few times to get a sense for the variance of the estimation of the $p$-value.\n",
    "\n",
    "Try three different values of $S \\in \\{100, 1000, 10000\\}$. \n",
    "\n",
    "The variance of the $p$-value across, say, five runs, should decrease with larger values of $S$."
   ]
  },
  {
   "cell_type": "code",
   "execution_count": 72,
   "metadata": {
    "collapsed": true
   },
   "outputs": [],
   "source": [
    "# your code here"
   ]
  },
  {
   "cell_type": "markdown",
   "metadata": {},
   "source": [
    "## You try\n",
    "\n",
    "Above we saw that the median number of statuses for non-English speakers is higher than the number for English speakers. Run the same significance test on this median difference."
   ]
  },
  {
   "cell_type": "code",
   "execution_count": null,
   "metadata": {
    "collapsed": true
   },
   "outputs": [],
   "source": []
  },
  {
   "cell_type": "code",
   "execution_count": 127,
   "metadata": {},
   "outputs": [
    {
     "name": "stdout",
     "output_type": "stream",
     "text": [
      "1511.5\n"
     ]
    },
    {
     "data": {
      "text/plain": [
       "0     11333\n",
       "1      8950\n",
       "2       238\n",
       "3    313796\n",
       "4     23396\n",
       "Name: statuses, dtype: int32"
      ]
     },
     "execution_count": 127,
     "metadata": {},
     "output_type": "execute_result"
    }
   ],
   "source": [
    "# your code here\n",
    "tweet_series = df_agg['statuses'] # for convenience\n",
    "h2_val = tweet_series[~df_agg['lang_en'].values].median() - tweet_series[df_agg['lang_en'].values].median()\n",
    "print(h2_val)\n",
    "tweet_series.sample(frac=1,replace=False).reset_index(drop=True).head()"
   ]
  },
  {
   "cell_type": "code",
   "execution_count": 132,
   "metadata": {},
   "outputs": [
    {
     "name": "stdout",
     "output_type": "stream",
     "text": [
      "1468.5\n"
     ]
    }
   ],
   "source": [
    "samp = tweet_series.sample(frac=1,replace=False).reset_index(drop=True)\n",
    "h0_val = samp[~df_agg['lang_en'].values].median() - samp[df_agg['lang_en'].values].median()\n",
    "print(h0_val)"
   ]
  },
  {
   "cell_type": "code",
   "execution_count": 133,
   "metadata": {},
   "outputs": [
    {
     "name": "stdout",
     "output_type": "stream",
     "text": [
      "p = 0.248000\n"
     ]
    }
   ],
   "source": [
    "S = 1000\n",
    "# awesome functional programming way\n",
    "median_diff = lambda samp : samp[df_agg['lang_en'].values].median() - samp[~df_agg['lang_en'].values].median()\n",
    "get_samp = lambda : tweet_series.sample(frac=1,replace=False).reset_index(drop=True)\n",
    "h0_vals = [median_diff(get_samp()) for _ in range(S)]\n",
    "p_count = sum([h0_val > h2_val for h0_val in h0_vals])\n",
    "print('p = %f'%(float(p_count) / S))"
   ]
  },
  {
   "cell_type": "code",
   "execution_count": 134,
   "metadata": {},
   "outputs": [
    {
     "data": {
      "image/png": "[encoded data removed]",
      "text/plain": [
       "<matplotlib.figure.Figure at 0xb618f98>"
      ]
     },
     "metadata": {},
     "output_type": "display_data"
    }
   ],
   "source": [
    "plt.hist(h0_vals,color='gray');\n",
    "plt.plot([h2_val,h2_val],[0,200],linestyle='--',color='red',linewidth=3)\n",
    "plt.xlabel('difference in medians');\n",
    "plt.legend(['observed value','null distribution']);"
   ]
  },
  {
   "cell_type": "markdown",
   "metadata": {},
   "source": [
    "# Next steps\n",
    "\n",
    "It looks like this comparison between median number of followers is not statistically significant -- we cannot reject the null hypothesis that the medians between the two groups (english, non-english) are the same.\n",
    "\n",
    "However, the median number of status messages for the non-English speakers *is* higher. Furthermore, the number of statuses is positively correlated with the number of followers. Perhaps it is still the case that for a given number of statuses, the English-speaking Twitter user might have more followers. How would you compare the number of followers while **controlling** for the number of statuses?\n",
    "\n",
    "Another direction would be to look at the tweets themselves, and their text. These tweets were gathered during the Ebola crisis, and contain keywords related to the situation. If you'd like to go further and submit this lab for credit, you can also ask me for more tweets like this. "
   ]
  },
  {
   "cell_type": "code",
   "execution_count": null,
   "metadata": {
    "collapsed": true
   },
   "outputs": [],
   "source": []
  },
  {
   "cell_type": "code",
   "execution_count": null,
   "metadata": {
    "collapsed": true
   },
   "outputs": [],
   "source": []
  }
 ],
 "metadata": {
  "kernelspec": {
   "display_name": "Python 2",
   "language": "python",
   "name": "python2"
  },
  "language_info": {
   "codemirror_mode": {
    "name": "ipython",
    "version": 2
   },
   "file_extension": ".py",
   "mimetype": "text/x-python",
   "name": "python",
   "nbconvert_exporter": "python",
   "pygments_lexer": "ipython2",
   "version": "2.7.13"
  }
 },
 "nbformat": 4,
 "nbformat_minor": 2
}
